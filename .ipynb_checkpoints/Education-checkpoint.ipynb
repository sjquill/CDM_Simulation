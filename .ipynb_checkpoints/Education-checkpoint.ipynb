{
 "cells": [
  {
   "cell_type": "code",
   "execution_count": 10,
   "id": "d8838c0e-b6e3-4864-b4bb-8405fb4705a5",
   "metadata": {},
   "outputs": [],
   "source": [
    "import matplotlib.pyplot as plt"
   ]
  },
  {
   "cell_type": "code",
   "execution_count": 11,
   "id": "c3f501f2-4d40-4cbb-b5e0-4ba9d119fd5c",
   "metadata": {},
   "outputs": [],
   "source": [
    "plt.style.use('classic')"
   ]
  },
  {
   "cell_type": "code",
   "execution_count": 12,
   "id": "bf6715e2-8430-4e8b-89ab-9bcc8252a23c",
   "metadata": {},
   "outputs": [],
   "source": [
    "%matplotlib inline"
   ]
  },
  {
   "cell_type": "code",
   "execution_count": 13,
   "id": "a74f1014-8c7c-42af-a284-85842da76bca",
   "metadata": {},
   "outputs": [
    {
     "data": {
      "text/plain": [
       "(array([1., 0., 1., 1., 0., 1., 0., 0., 1., 1.]),\n",
       " array([ 1.6,  4.6,  7.6, 10.6, 13.6, 16.6, 19.6, 22.6, 25.6, 28.6, 31.6]),\n",
       " <BarContainer object of 10 artists>)"
      ]
     },
     "execution_count": 13,
     "metadata": {},
     "output_type": "execute_result"
    },
    {
     "data": {
      "image/png": "[encoded data removed]",
      "text/plain": [
       "<Figure size 432x288 with 1 Axes>"
      ]
     },
     "metadata": {
      "needs_background": "light"
     },
     "output_type": "display_data"
    }
   ],
   "source": [
    "degree_attained = list([18.3, 31.6, 8.8, 26.4,13.3, 1.6])\n",
    "plt.hist(degree_attained)"
   ]
  },
  {
   "cell_type": "code",
   "execution_count": 15,
   "id": "751044fa-cb42-406b-ba6a-d3dc2cd8f115",
   "metadata": {},
   "outputs": [
    {
     "name": "stdout",
     "output_type": "stream",
     "text": [
      "[18.3, 31.6, 8.8, 26.4, 13.3, 1.6]\n",
      "['Below school ', 'Bachelors', 'Bachelors', ' Upper secondary', ' Upper secondary', ' Upper secondary', 'Bachelors', 'Bachelors', 'Below school ', 'Below school ', 'Bachelors', ' Upper secondary', 'Bachelors', 'Below school ', ' Upper secondary', 'Bachelors', ' Upper secondary', 'Masters', 'Masters', 'Below school ', 'Below school ', 'Short cycle tertiary education', 'Masters', ' Upper secondary', ' Upper secondary', ' Upper secondary', 'Below school ', ' Upper secondary', ' Upper secondary', ' Upper secondary', ' Upper secondary', ' Upper secondary', ' Upper secondary', ' Upper secondary', ' Upper secondary', 'Below school ', 'Bachelors', 'Short cycle tertiary education', 'Bachelors', ' Upper secondary', 'PhD', 'Masters', 'Below school ', ' Upper secondary', 'Bachelors', 'Bachelors', 'Masters', ' Upper secondary', 'Bachelors', 'Bachelors', ' Upper secondary', 'Bachelors', 'Masters', 'Bachelors', 'Short cycle tertiary education', 'Bachelors', 'Below school ', ' Upper secondary', 'Bachelors', ' Upper secondary', 'Below school ', 'Short cycle tertiary education', 'Bachelors', 'Bachelors', ' Upper secondary', ' Upper secondary', 'Short cycle tertiary education', 'Bachelors', 'Short cycle tertiary education', ' Upper secondary', ' Upper secondary', 'Below school ', 'Below school ', 'Bachelors', 'Masters', 'Bachelors', ' Upper secondary', 'Below school ', 'Short cycle tertiary education', 'Masters', 'Bachelors', 'Short cycle tertiary education', 'Masters', ' Upper secondary', 'Short cycle tertiary education', 'Masters', 'Short cycle tertiary education', ' Upper secondary', ' Upper secondary', 'Short cycle tertiary education', 'Masters', 'Below school ', 'Bachelors', 'Bachelors', 'Masters', 'Bachelors', 'Bachelors', 'Short cycle tertiary education', 'Short cycle tertiary education', ' Upper secondary', 'Below school ', 'Masters', 'Short cycle tertiary education', ' Upper secondary', 'Short cycle tertiary education', ' Upper secondary', ' Upper secondary', ' Upper secondary', 'Short cycle tertiary education', 'Bachelors', 'Bachelors', ' Upper secondary', 'Below school ', ' Upper secondary', 'Below school ', 'Short cycle tertiary education', 'Masters', 'Bachelors', 'Bachelors', 'Bachelors', ' Upper secondary', 'Bachelors', 'Bachelors', 'Below school ', 'Below school ', 'Below school ', 'Bachelors', ' Upper secondary', 'Below school ', 'Bachelors', ' Upper secondary', 'Below school ', 'Below school ', 'Short cycle tertiary education', 'Below school ', ' Upper secondary', 'Bachelors', ' Upper secondary', ' Upper secondary', ' Upper secondary', 'Below school ', ' Upper secondary', ' Upper secondary', ' Upper secondary', 'Below school ', 'Masters', 'Short cycle tertiary education', ' Upper secondary', 'Bachelors', 'Bachelors', 'Below school ', 'Below school ', 'Below school ', 'Bachelors', 'Below school ', 'Bachelors', 'Bachelors', 'Short cycle tertiary education', ' Upper secondary', 'Masters', 'Bachelors', 'Short cycle tertiary education', ' Upper secondary', 'Bachelors', ' Upper secondary', 'Short cycle tertiary education', ' Upper secondary', 'Bachelors', 'Below school ', ' Upper secondary', 'Masters', 'Masters', ' Upper secondary', 'Masters', ' Upper secondary', 'Masters', 'Bachelors', ' Upper secondary', ' Upper secondary', 'Below school ', 'Masters', 'Below school ', 'Bachelors', 'Masters', 'Short cycle tertiary education', 'Below school ', 'Masters', 'Masters', 'Bachelors', 'Short cycle tertiary education', ' Upper secondary', ' Upper secondary', ' Upper secondary', 'Bachelors', ' Upper secondary', ' Upper secondary', 'Below school ', 'Bachelors', ' Upper secondary', 'Short cycle tertiary education', ' Upper secondary', 'Masters', 'Masters', 'Below school ', ' Upper secondary', ' Upper secondary', 'PhD', 'Bachelors', ' Upper secondary', ' Upper secondary', 'Bachelors', 'Bachelors', 'Masters', ' Upper secondary', 'Masters', 'Bachelors', ' Upper secondary', 'PhD', ' Upper secondary', 'Bachelors', 'Below school ', 'Below school ', 'Masters', ' Upper secondary', 'Bachelors', 'Bachelors', 'Bachelors', ' Upper secondary', ' Upper secondary', ' Upper secondary', 'Masters', 'Bachelors', 'Masters', 'Masters', 'Below school ', 'Short cycle tertiary education', 'Below school ', 'Below school ', 'Below school ', 'Masters', 'Bachelors', 'Bachelors', ' Upper secondary', 'Bachelors', 'Bachelors', ' Upper secondary', 'Short cycle tertiary education', ' Upper secondary', 'Below school ', ' Upper secondary', 'Masters', 'Short cycle tertiary education', 'Masters', ' Upper secondary', ' Upper secondary', 'Bachelors', 'Bachelors', 'Below school ', 'Bachelors', 'Below school ', 'Below school ', 'Masters', 'Below school ', ' Upper secondary', 'PhD', ' Upper secondary', 'Below school ', 'Below school ', ' Upper secondary', 'Bachelors', 'Below school ', 'Masters', ' Upper secondary', 'Masters', 'Masters', ' Upper secondary', ' Upper secondary', ' Upper secondary', 'Below school ', 'Bachelors', 'Below school ', 'Below school ', 'Masters', ' Upper secondary', 'Bachelors', ' Upper secondary', ' Upper secondary', 'Below school ', 'Masters', 'Masters', 'Masters', 'Below school ', ' Upper secondary', 'Bachelors', 'Masters', 'Short cycle tertiary education', 'Bachelors', 'Bachelors', ' Upper secondary', 'Short cycle tertiary education', ' Upper secondary', ' Upper secondary', 'Below school ', ' Upper secondary', 'Masters', ' Upper secondary', 'Bachelors', 'Bachelors', 'Masters', ' Upper secondary', ' Upper secondary', ' Upper secondary', ' Upper secondary', 'Bachelors', 'Masters', ' Upper secondary', ' Upper secondary', 'Short cycle tertiary education', 'Short cycle tertiary education', 'Bachelors', ' Upper secondary', 'Below school ', ' Upper secondary', 'Below school ', 'Short cycle tertiary education', 'Below school ', 'Below school ', 'Bachelors', ' Upper secondary', 'Bachelors', ' Upper secondary', 'Masters', 'Below school ', 'Short cycle tertiary education', 'Bachelors', 'Below school ', 'Masters', 'Below school ', 'Bachelors', 'PhD', 'Bachelors', ' Upper secondary', 'Below school ', 'Short cycle tertiary education', 'Masters', ' Upper secondary', 'Masters', 'Below school ', 'Masters', 'Below school ', ' Upper secondary', 'Masters', 'Bachelors', 'Masters', 'Bachelors', 'Bachelors', 'Bachelors', 'Below school ', ' Upper secondary', 'Below school ', 'Bachelors', 'Bachelors', ' Upper secondary', 'Below school ', 'Masters', 'Bachelors', 'Short cycle tertiary education', 'Short cycle tertiary education', 'Masters', ' Upper secondary', ' Upper secondary', ' Upper secondary', ' Upper secondary', 'Below school ', 'Bachelors', ' Upper secondary', 'Short cycle tertiary education', 'Below school ', ' Upper secondary', 'Below school ', 'Below school ', ' Upper secondary', 'Bachelors', ' Upper secondary', ' Upper secondary', 'Bachelors', ' Upper secondary', 'Below school ', 'Short cycle tertiary education', 'Short cycle tertiary education', 'Bachelors', ' Upper secondary', 'Bachelors', 'Bachelors', ' Upper secondary', ' Upper secondary', ' Upper secondary', ' Upper secondary', ' Upper secondary', 'Short cycle tertiary education', 'Masters', 'Masters', ' Upper secondary', 'Bachelors', 'Below school ', 'Below school ', 'Short cycle tertiary education', 'Masters', 'Below school ', 'Bachelors', 'Masters', ' Upper secondary', 'Bachelors', 'Bachelors', ' Upper secondary', 'Bachelors', 'Bachelors', 'Bachelors', 'Masters', 'Masters', 'Masters', 'Short cycle tertiary education', 'Below school ', ' Upper secondary', ' Upper secondary', 'Short cycle tertiary education', 'Bachelors', 'Below school ', 'Bachelors', 'Bachelors', ' Upper secondary', 'Short cycle tertiary education', 'Below school ', 'Bachelors', 'Below school ', 'Masters', 'Bachelors', 'Bachelors', ' Upper secondary', 'Masters', 'Masters', 'Below school ', 'Bachelors', 'Bachelors', 'Bachelors', 'Bachelors', ' Upper secondary', 'Masters', 'Masters', ' Upper secondary', 'Bachelors', ' Upper secondary', 'Below school ', ' Upper secondary', 'Below school ', 'Masters', 'Masters', 'Below school ', 'Bachelors', ' Upper secondary', 'Below school ', ' Upper secondary', ' Upper secondary', 'Bachelors', 'Below school ', ' Upper secondary', ' Upper secondary', 'Below school ', 'Bachelors', 'Bachelors', 'Bachelors', ' Upper secondary', ' Upper secondary', 'Short cycle tertiary education', ' Upper secondary', 'Short cycle tertiary education', ' Upper secondary', 'Bachelors', 'Bachelors', 'Bachelors', 'Masters', 'Short cycle tertiary education', ' Upper secondary', 'Masters', 'Bachelors', 'Short cycle tertiary education', ' Upper secondary', ' Upper secondary', 'Below school ', 'Bachelors', 'Below school ', 'Bachelors', 'Short cycle tertiary education', 'Masters', 'Bachelors', 'Masters', 'Below school ', 'Short cycle tertiary education', 'Short cycle tertiary education', ' Upper secondary']\n"
     ]
    }
   ],
   "source": [
    "#import random\n",
    "#sampleList = [100, 200, 300, 400, 500]\n",
    "#randomList = random.choices(\n",
    " # sampleList, weights=(10, 20, 30, 40, 50), k=5)\n",
    "  # print(randomList)\n",
    "# https://www.w3schools.com/python/ref_random_seed.asp\n",
    "# https://www.geeksforgeeks.org/how-to-get-weighted-random-choice-in-python/ \n",
    "# reference: https://stats.oecd.org/Index.aspx?DataSetCode=EAG_NEAC\n",
    "\n",
    "degree_attained = list([18.3, 31.6, 8.8, 26.4,13.3, 1.6])\n",
    "print(degree_attained)\n",
    "\n",
    "sample_list = list([\"Below school \", \" Upper secondary\", \n",
    "                    \"Short cycle tertiary education\", \"Bachelors\", \"Masters\", \"PhD\"])\n",
    "\n",
    "\n",
    "import random\n",
    "random.seed(1)\n",
    "random_list = random.choices(sample_list, weights =degree_attained,\n",
    "              k=500)\n",
    "print(random_list)\n",
    "#making a dataframe out of the data\n",
    "import pandas as pd\n",
    "df = pd.DataFrame(random_list)\n"
   ]
  },
  {
   "cell_type": "code",
   "execution_count": 16,
   "id": "fadb5630-4132-44c3-b581-1a091ac76fa3",
   "metadata": {},
   "outputs": [
    {
     "data": {
      "text/plain": [
       "(array([ 92.,   0., 124.,   0., 153.,   0.,  74.,   0.,  52.,   5.]),\n",
       " array([0. , 0.5, 1. , 1.5, 2. , 2.5, 3. , 3.5, 4. , 4.5, 5. ]),\n",
       " <BarContainer object of 10 artists>)"
      ]
     },
     "execution_count": 16,
     "metadata": {},
     "output_type": "execute_result"
    },
    {
     "data": {
      "image/png": "[encoded data removed]",
      "text/plain": [
       "<Figure size 432x288 with 1 Axes>"
      ]
     },
     "metadata": {
      "needs_background": "light"
     },
     "output_type": "display_data"
    }
   ],
   "source": [
    "plt.hist(random_list)"
   ]
  },
  {
   "cell_type": "code",
   "execution_count": 22,
   "id": "2c818dae-d7f1-4409-a16f-1c84d55efd7e",
   "metadata": {},
   "outputs": [
    {
     "ename": "IndentationError",
     "evalue": "unexpected indent (2898807494.py, line 7)",
     "output_type": "error",
     "traceback": [
      "\u001b[0;36m  Input \u001b[0;32mIn [22]\u001b[0;36m\u001b[0m\n\u001b[0;31m    dict(\u001b[0m\n\u001b[0m    ^\u001b[0m\n\u001b[0;31mIndentationError\u001b[0m\u001b[0;31m:\u001b[0m unexpected indent\n"
     ]
    }
   ],
   "source": [
    "# https://statswales.gov.wales/catalogue/population-and-migration/population/estimates/nationallevelpopulationestimates-by-year-age-ukcountry \n",
    "#age_dist_in_uk = list([12727569, 41845027, 12508638])\n",
    "\n",
    "# sample_list2 = list([\"<15\", \" 16-64\", \n",
    "#                    \">65\"])\n",
    "\n",
    "\n",
    "        \n",
    "random.seed(2)\n",
    "random_list2 = random.choices(sample_list2, weights =age_dist_in_uk,\n",
    "              k=500)"
   ]
  },
  {
   "cell_type": "code",
   "execution_count": 20,
   "id": "b84b25df",
   "metadata": {},
   "outputs": [
    {
     "data": {
      "text/plain": [
       "(array([ 95.,   0.,   0.,   0.,   0.,  90.,   0.,   0.,   0., 315.]),\n",
       " array([0. , 0.2, 0.4, 0.6, 0.8, 1. , 1.2, 1.4, 1.6, 1.8, 2. ]),\n",
       " <BarContainer object of 10 artists>)"
      ]
     },
     "execution_count": 20,
     "metadata": {},
     "output_type": "execute_result"
    },
    {
     "data": {
      "image/png": "[encoded data removed]",
      "text/plain": [
       "<Figure size 432x288 with 1 Axes>"
      ]
     },
     "metadata": {
      "needs_background": "light"
     },
     "output_type": "display_data"
    }
   ],
   "source": [
    "plt.hist(random_list2)"
   ]
  },
  {
   "cell_type": "code",
   "execution_count": 30,
   "id": "13e356f4",
   "metadata": {},
   "outputs": [
    {
     "ename": "NameError",
     "evalue": "name 'age' is not defined",
     "output_type": "error",
     "traceback": [
      "\u001b[0;31m---------------------------------------------------------------------------\u001b[0m",
      "\u001b[0;31mNameError\u001b[0m                                 Traceback (most recent call last)",
      "Input \u001b[0;32mIn [30]\u001b[0m, in \u001b[0;36m<cell line: 5>\u001b[0;34m()\u001b[0m\n\u001b[1;32m      1\u001b[0m df \u001b[38;5;241m=\u001b[39m pd\u001b[38;5;241m.\u001b[39mDataFrame(\n\u001b[1;32m      2\u001b[0m   \u001b[38;5;28mdict\u001b[39m(age\u001b[38;5;241m=\u001b[39m[\u001b[38;5;124m\"\u001b[39m\u001b[38;5;124m<15\u001b[39m\u001b[38;5;124m\"\u001b[39m,\u001b[38;5;124m\"\u001b[39m\u001b[38;5;124m16-64\u001b[39m\u001b[38;5;124m\"\u001b[39m, \u001b[38;5;124m\"\u001b[39m\u001b[38;5;124m>65\u001b[39m\u001b[38;5;124m\"\u001b[39m],\n\u001b[1;32m      3\u001b[0m        N\u001b[38;5;241m=\u001b[39m[\u001b[38;5;241m12727569\u001b[39m, \u001b[38;5;241m41845027\u001b[39m, \u001b[38;5;241m2508638\u001b[39m]))\n\u001b[0;32m----> 5\u001b[0m plt\u001b[38;5;241m.\u001b[39mbar(\u001b[43mage\u001b[49m, N, data \u001b[38;5;241m=\u001b[39m df)\n",
      "\u001b[0;31mNameError\u001b[0m: name 'age' is not defined"
     ]
    }
   ],
   "source": []
  },
  {
   "cell_type": "code",
   "execution_count": 31,
   "id": "b16f71f9",
   "metadata": {},
   "outputs": [
    {
     "name": "stdout",
     "output_type": "stream",
     "text": [
      "[ 4  4 12 11 13 11  8 13  5  7]\n"
     ]
    }
   ],
   "source": [
    "# The original GEO dataset was generated by the Affymetrix microarray platform, and the expression values are in a numerical range between 4 and 15.\n",
    "# https://www.frontiersin.org/articles/10.3389/fgene.2019.01077/full\n",
    "# 10 columns with random numbers between 4 and 15. data = np.random.randint(lowest integer, highest integer, size=number of random integers)\n",
    "\n",
    "rndm = np.random.randint(4,15, size = 10)\n",
    "print(rndm)\n",
    "\n"
   ]
  },
  {
   "cell_type": "code",
   "execution_count": 44,
   "id": "ebb4d592",
   "metadata": {},
   "outputs": [
    {
     "data": {
      "text/plain": [
       "(array([466.,   0.,   0.,   0.,   0.,   0.,   0.,   0.,   0.,  34.]),\n",
       " array([0. , 0.1, 0.2, 0.3, 0.4, 0.5, 0.6, 0.7, 0.8, 0.9, 1. ]),\n",
       " <BarContainer object of 10 artists>)"
      ]
     },
     "execution_count": 44,
     "metadata": {},
     "output_type": "execute_result"
    },
    {
     "data": {
      "image/png": "[encoded data removed]",
      "text/plain": [
       "<Figure size 432x288 with 1 Axes>"
      ]
     },
     "metadata": {
      "needs_background": "light"
     },
     "output_type": "display_data"
    }
   ],
   "source": [
    "from scipy.stats import bernoulli\n",
    "\n",
    "sickle_cell = bernoulli.rvs(size=500,p=0.079)\n",
    "plt.hist(data_bern)"
   ]
  },
  {
   "cell_type": "code",
   "execution_count": 37,
   "id": "f3c767ce",
   "metadata": {},
   "outputs": [
    {
     "data": {
      "text/plain": [
       "(array([1954., 2282., 2207., 1718., 1020.,  501.,  204.,   69.,   30.,\n",
       "          15.]),\n",
       " array([ 0. ,  1.1,  2.2,  3.3,  4.4,  5.5,  6.6,  7.7,  8.8,  9.9, 11. ]),\n",
       " <BarContainer object of 10 artists>)"
      ]
     },
     "execution_count": 37,
     "metadata": {},
     "output_type": "execute_result"
    },
    {
     "data": {
      "image/png": "[encoded data removed]",
      "text/plain": [
       "<Figure size 432x288 with 1 Axes>"
      ]
     },
     "metadata": {
      "needs_background": "light"
     },
     "output_type": "display_data"
    }
   ],
   "source": [
    "from scipy.stats import poisson\n",
    "\n",
    "data_poisson = poisson.rvs(mu=3, size=10000)\n",
    "plt.hist(data_poisson)"
   ]
  },
  {
   "cell_type": "code",
   "execution_count": 39,
   "id": "7cfa150b",
   "metadata": {},
   "outputs": [
    {
     "data": {
      "text/plain": [
       "(array([1.190e+03, 3.841e+03, 3.104e+03, 1.298e+03, 4.220e+02, 1.110e+02,\n",
       "        2.900e+01, 4.000e+00, 0.000e+00, 1.000e+00]),\n",
       " array([ 0.44881793,  2.5703989 ,  4.69197986,  6.81356083,  8.93514179,\n",
       "        11.05672276, 13.17830372, 15.29988469, 17.42146565, 19.54304662,\n",
       "        21.66462758]),\n",
       " <BarContainer object of 10 artists>)"
      ]
     },
     "execution_count": 39,
     "metadata": {},
     "output_type": "execute_result"
    },
    {
     "data": {
      "image/png": "[encoded data removed]",
      "text/plain": [
       "<Figure size 432x288 with 1 Axes>"
      ]
     },
     "metadata": {
      "needs_background": "light"
     },
     "output_type": "display_data"
    }
   ],
   "source": [
    "from scipy.stats import gamma\n",
    "data_gamma = gamma.rvs(a=5, size=10000)\n",
    "plt.hist(data_gamma)"
   ]
  },
  {
   "cell_type": "code",
   "execution_count": 46,
   "id": "e5fb24f8",
   "metadata": {},
   "outputs": [
    {
     "ename": "TypeError",
     "evalue": "gamma() takes at least 1 positional argument (0 given)",
     "output_type": "error",
     "traceback": [
      "\u001b[0;31m---------------------------------------------------------------------------\u001b[0m",
      "\u001b[0;31mTypeError\u001b[0m                                 Traceback (most recent call last)",
      "Input \u001b[0;32mIn [46]\u001b[0m, in \u001b[0;36m<cell line: 2>\u001b[0;34m()\u001b[0m\n\u001b[1;32m      1\u001b[0m \u001b[38;5;28;01mimport\u001b[39;00m \u001b[38;5;21;01mnumpy\u001b[39;00m \u001b[38;5;28;01mas\u001b[39;00m \u001b[38;5;21;01mnp\u001b[39;00m \n\u001b[0;32m----> 2\u001b[0m \u001b[43mnp\u001b[49m\u001b[38;5;241;43m.\u001b[39;49m\u001b[43mrandom\u001b[49m\u001b[38;5;241;43m.\u001b[39;49m\u001b[43mgamma\u001b[49m\u001b[43m(\u001b[49m\u001b[43ma\u001b[49m\u001b[43m \u001b[49m\u001b[38;5;241;43m=\u001b[39;49m\u001b[43m \u001b[49m\u001b[38;5;241;43m5\u001b[39;49m\u001b[43m \u001b[49m\u001b[43m,\u001b[49m\u001b[43m \u001b[49m\u001b[43msize\u001b[49m\u001b[43m \u001b[49m\u001b[38;5;241;43m=\u001b[39;49m\u001b[43m \u001b[49m\u001b[38;5;241;43m500\u001b[39;49m\u001b[43m)\u001b[49m\n",
      "File \u001b[0;32mmtrand.pyx:1593\u001b[0m, in \u001b[0;36mnumpy.random.mtrand.RandomState.gamma\u001b[0;34m()\u001b[0m\n",
      "\u001b[0;31mTypeError\u001b[0m: gamma() takes at least 1 positional argument (0 given)"
     ]
    }
   ],
   "source": [
    "import numpy as np \n",
    "shape\n",
    "np.random.gamma(a = 5 , size = 500)"
   ]
  },
  {
   "cell_type": "code",
   "execution_count": 47,
   "id": "08c5ee29",
   "metadata": {},
   "outputs": [],
   "source": [
    "shape, scale = 2., 2.  # mean=4, std=2*sqrt(2)\n",
    ">>> s = np.random.gamma(shape, scale, 1000)"
   ]
  },
  {
   "cell_type": "code",
   "execution_count": 61,
   "id": "916521d6",
   "metadata": {},
   "outputs": [],
   "source": [
    "CFTR = np.random.normal(.7, 0.1, size = 500)"
   ]
  },
  {
   "cell_type": "code",
   "execution_count": 57,
   "id": "d3a7c978",
   "metadata": {},
   "outputs": [],
   "source": [
    "REG1B_dist = np.random.normal(0.013, 0.001, size = 500)"
   ]
  },
  {
   "cell_type": "code",
   "execution_count": 62,
   "id": "4aae35ca",
   "metadata": {},
   "outputs": [
    {
     "data": {
      "text/plain": [
       "(array([  5.,  28.,  41., 106., 123., 114.,  63.,  18.,   0.,   2.]),\n",
       " array([0.40724935, 0.4711171 , 0.53498485, 0.5988526 , 0.66272034,\n",
       "        0.72658809, 0.79045584, 0.85432359, 0.91819134, 0.98205909,\n",
       "        1.04592683]),\n",
       " <BarContainer object of 10 artists>)"
      ]
     },
     "execution_count": 62,
     "metadata": {},
     "output_type": "execute_result"
    },
    {
     "data": {
      "image/png": "[encoded data removed]",
      "text/plain": [
       "<Figure size 432x288 with 1 Axes>"
      ]
     },
     "metadata": {
      "needs_background": "light"
     },
     "output_type": "display_data"
    }
   ],
   "source": [
    "plt.hist(REG1B_dist)"
   ]
  },
  {
   "cell_type": "code",
   "execution_count": 63,
   "id": "55ccd6de",
   "metadata": {},
   "outputs": [
    {
     "data": {
      "text/plain": [
       "(array([  5.,  28.,  41., 106., 123., 114.,  63.,  18.,   0.,   2.]),\n",
       " array([0.40724935, 0.4711171 , 0.53498485, 0.5988526 , 0.66272034,\n",
       "        0.72658809, 0.79045584, 0.85432359, 0.91819134, 0.98205909,\n",
       "        1.04592683]),\n",
       " <BarContainer object of 10 artists>)"
      ]
     },
     "execution_count": 63,
     "metadata": {},
     "output_type": "execute_result"
    },
    {
     "data": {
      "image/png": "[encoded data removed]",
      "text/plain": [
       "<Figure size 432x288 with 1 Axes>"
      ]
     },
     "metadata": {
      "needs_background": "light"
     },
     "output_type": "display_data"
    }
   ],
   "source": [
    "plt.hist(CFTR)"
   ]
  },
  {
   "cell_type": "code",
   "execution_count": 65,
   "id": "c5e74960",
   "metadata": {},
   "outputs": [],
   "source": [
    "# https://www.ebi.ac.uk/gxa/genesets/GO:0010468?bs=%7B%22homo%20sapiens%22%3A%5B%22ORGANISM_PART%22%5D%2C%22aegilops%20tauschii%22%3A%5B%22ECOTYPE%22%5D%2C%22anolis%20carolinensis%22%3A%5B%22ORGANISM_PART%22%5D%2C%22arabidopsis%20thaliana%22%3A%5B%22ORGANISM_PART%22%5D%2C%22beta%20vulgaris%22%3A%5B%22DEVELOPMENTAL_STAGE%22%5D%2C%22bos%20taurus%22%3A%5B%22ORGANISM_PART%22%5D%2C%22brachypodium%20distachyon%22%3A%5B%22ORGANISM_PART%22%5D%2C%22brassica%20napus%22%3A%5B%22DEVELOPMENTAL_STAGE%22%5D%2C%22brassica%20oleracea%22%3A%5B%22ORGANISM_PART%22%5D%2C%22brassica%20rapa%22%3A%5B%22ORGANISM_PART%22%5D%2C%22caenorhabditis%20elegans%22%3A%5B%22DEVELOPMENTAL_STAGE%22%5D%2C%22chlamydomonas%20reinhardtii%22%3A%5B%22SAMPLING_TIME_POINT%22%5D%2C%22chlorocebus%20sabaeus%22%3A%5B%22ORGANISM_PART%22%5D%2C%22danio%20rerio%22%3A%5B%22DEVELOPMENTAL_STAGE%22%5D%2C%22drosophila%20melanogaster%22%3A%5B%22DEVELOPMENT_STAGE%22%5D%2C%22equus%20caballus%22%3A%5B%22ORGANISM_PART%22%5D%2C%22gallus%20gallus%22%3A%5B%22ORGANISM_PART%22%5D%2C%22glycine%20max%22%3A%5B%22ORGANISM_PART%22%5D%2C%22hordeum%20vulgare%22%3A%5B%22ORGANISM_PART%22%5D%2C%22macaca%20mulatta%22%3A%5B%22ORGANISM_PART%22%5D%2C%22monodelphis%20domestica%22%3A%5B%22ORGANISM_PART%22%5D%2C%22mus%20musculus%22%3A%5B%22ORGANISM_PART%22%5D%2C%22musa%20acuminata%22%3A%5B%22DEVELOPMENTAL_STAGE%22%5D%2C%22oryctolagus%20cuniculus%22%3A%5B%22DEVELOPMENTAL_STAGE%22%5D%2C%22oryza%20sativa%22%3A%5B%22ORGANISM_PART%22%5D%2C%22ovis%20aries%22%3A%5B%22ORGANISM_PART%22%5D%2C%22papio%20anubis%22%3A%5B%22ORGANISM_PART%22%5D%2C%22populus%20trichocarpa%22%3A%5B%22ORGANISM_PART%22%5D%2C%22rattus%20norvegicus%22%3A%5B%22ORGANISM_PART%22%5D%2C%22saccharomyces%20cerevisiae%22%3A%5B%22TIME%22%5D%2C%22setaria%20italica%22%3A%5B%22ORGANISM_PART%22%5D%2C%22solanum%20lycopersicum%22%3A%5B%22ORGANISM_PART%22%5D%2C%22solanum%20tuberosum%22%3A%5B%22ORGANISM_PART%22%5D%2C%22sorghum%20bicolor%22%3A%5B%22ORGANISM_PART%22%5D%2C%22sus%20scrofa%22%3A%5B%22ORGANISM_PART%22%5D%2C%22trifolium%20pratense%22%3A%5B%22DEVELOPMENTAL_STAGE%22%5D%2C%22triticum%20aestivum%22%3A%5B%22ORGANISM_PART%22%5D%2C%22vitis%20vinifera%22%3A%5B%22ORGANISM_PART%22%5D%2C%22xenopus%20tropicalis%22%3A%5B%22ORGANISM_PART%22%5D%2C%22zea%20mays%22%3A%5B%22ORGANISM_PART%22%5D%7D&ds=%7B%22kingdom%22%3A%5B%22animals%22%2C%22plants%22%5D%7D#baseline\n",
    "GO0010468 = np.random.normal(10, 2, size = 500)"
   ]
  },
  {
   "cell_type": "code",
   "execution_count": 66,
   "id": "ab91c91d",
   "metadata": {},
   "outputs": [
    {
     "data": {
      "text/plain": [
       "(array([13., 14., 49., 94., 99., 91., 71., 47., 16.,  6.]),\n",
       " array([ 4.65087968,  5.75502262,  6.85916556,  7.9633085 ,  9.06745145,\n",
       "        10.17159439, 11.27573733, 12.37988027, 13.48402321, 14.58816615,\n",
       "        15.6923091 ]),\n",
       " <BarContainer object of 10 artists>)"
      ]
     },
     "execution_count": 66,
     "metadata": {},
     "output_type": "execute_result"
    },
    {
     "data": {
      "image/png": "[encoded data removed]",
      "text/plain": [
       "<Figure size 432x288 with 1 Axes>"
      ]
     },
     "metadata": {
      "needs_background": "light"
     },
     "output_type": "display_data"
    }
   ],
   "source": [
    "plt.hist(GO0010468)"
   ]
  },
  {
   "cell_type": "code",
   "execution_count": null,
   "id": "477011ec",
   "metadata": {},
   "outputs": [],
   "source": []
  }
 ],
 "metadata": {
  "kernelspec": {
   "display_name": "Python 3 (ipykernel)",
   "language": "python",
   "name": "python3"
  },
  "language_info": {
   "codemirror_mode": {
    "name": "ipython",
    "version": 3
   },
   "file_extension": ".py",
   "mimetype": "text/x-python",
   "name": "python",
   "nbconvert_exporter": "python",
   "pygments_lexer": "ipython3",
   "version": "3.9.12"
  }
 },
 "nbformat": 4,
 "nbformat_minor": 5
}

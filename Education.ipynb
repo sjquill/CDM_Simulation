{
 "cells": [
  {
   "cell_type": "code",
   "execution_count": 3,
   "id": "d8838c0e-b6e3-4864-b4bb-8405fb4705a5",
   "metadata": {},
   "outputs": [],
   "source": [
    "import matplotlib.pyplot as plt"
   ]
  },
  {
   "cell_type": "code",
   "execution_count": 4,
   "id": "c3f501f2-4d40-4cbb-b5e0-4ba9d119fd5c",
   "metadata": {},
   "outputs": [],
   "source": [
    "plt.style.use('classic')"
   ]
  },
  {
   "cell_type": "code",
   "execution_count": 5,
   "id": "bf6715e2-8430-4e8b-89ab-9bcc8252a23c",
   "metadata": {},
   "outputs": [],
   "source": [
    "%matplotlib inline"
   ]
  },
  {
   "cell_type": "code",
   "execution_count": 6,
   "id": "a74f1014-8c7c-42af-a284-85842da76bca",
   "metadata": {},
   "outputs": [],
   "source": [
    "degree_attained = list([18.3, 31.6, 8.8, 26.4,13.3, 1.6])"
   ]
  },
  {
   "cell_type": "code",
   "execution_count": 7,
   "id": "751044fa-cb42-406b-ba6a-d3dc2cd8f115",
   "metadata": {},
   "outputs": [
    {
     "name": "stdout",
     "output_type": "stream",
     "text": [
      "[18.3, 31.6, 8.8, 26.4, 13.3, 1.6]\n",
      "['Below school ', 'Bachelors', 'Bachelors', ' Upper secondary', ' Upper secondary', ' Upper secondary', 'Bachelors', 'Bachelors', 'Below school ', 'Below school ', 'Bachelors', ' Upper secondary', 'Bachelors', 'Below school ', ' Upper secondary', 'Bachelors', ' Upper secondary', 'Masters', 'Masters', 'Below school ', 'Below school ', 'Short cycle tertiary education', 'Masters', ' Upper secondary', ' Upper secondary', ' Upper secondary', 'Below school ', ' Upper secondary', ' Upper secondary', ' Upper secondary', ' Upper secondary', ' Upper secondary', ' Upper secondary', ' Upper secondary', ' Upper secondary', 'Below school ', 'Bachelors', 'Short cycle tertiary education', 'Bachelors', ' Upper secondary', 'PhD', 'Masters', 'Below school ', ' Upper secondary', 'Bachelors', 'Bachelors', 'Masters', ' Upper secondary', 'Bachelors', 'Bachelors', ' Upper secondary', 'Bachelors', 'Masters', 'Bachelors', 'Short cycle tertiary education', 'Bachelors', 'Below school ', ' Upper secondary', 'Bachelors', ' Upper secondary', 'Below school ', 'Short cycle tertiary education', 'Bachelors', 'Bachelors', ' Upper secondary', ' Upper secondary', 'Short cycle tertiary education', 'Bachelors', 'Short cycle tertiary education', ' Upper secondary', ' Upper secondary', 'Below school ', 'Below school ', 'Bachelors', 'Masters', 'Bachelors', ' Upper secondary', 'Below school ', 'Short cycle tertiary education', 'Masters', 'Bachelors', 'Short cycle tertiary education', 'Masters', ' Upper secondary', 'Short cycle tertiary education', 'Masters', 'Short cycle tertiary education', ' Upper secondary', ' Upper secondary', 'Short cycle tertiary education', 'Masters', 'Below school ', 'Bachelors', 'Bachelors', 'Masters', 'Bachelors', 'Bachelors', 'Short cycle tertiary education', 'Short cycle tertiary education', ' Upper secondary', 'Below school ', 'Masters', 'Short cycle tertiary education', ' Upper secondary', 'Short cycle tertiary education', ' Upper secondary', ' Upper secondary', ' Upper secondary', 'Short cycle tertiary education', 'Bachelors', 'Bachelors', ' Upper secondary', 'Below school ', ' Upper secondary', 'Below school ', 'Short cycle tertiary education', 'Masters', 'Bachelors', 'Bachelors', 'Bachelors', ' Upper secondary', 'Bachelors', 'Bachelors', 'Below school ', 'Below school ', 'Below school ', 'Bachelors', ' Upper secondary', 'Below school ', 'Bachelors', ' Upper secondary', 'Below school ', 'Below school ', 'Short cycle tertiary education', 'Below school ', ' Upper secondary', 'Bachelors', ' Upper secondary', ' Upper secondary', ' Upper secondary', 'Below school ', ' Upper secondary', ' Upper secondary', ' Upper secondary', 'Below school ', 'Masters', 'Short cycle tertiary education', ' Upper secondary', 'Bachelors', 'Bachelors', 'Below school ', 'Below school ', 'Below school ', 'Bachelors', 'Below school ', 'Bachelors', 'Bachelors', 'Short cycle tertiary education', ' Upper secondary', 'Masters', 'Bachelors', 'Short cycle tertiary education', ' Upper secondary', 'Bachelors', ' Upper secondary', 'Short cycle tertiary education', ' Upper secondary', 'Bachelors', 'Below school ', ' Upper secondary', 'Masters', 'Masters', ' Upper secondary', 'Masters', ' Upper secondary', 'Masters', 'Bachelors', ' Upper secondary', ' Upper secondary', 'Below school ', 'Masters', 'Below school ', 'Bachelors', 'Masters', 'Short cycle tertiary education', 'Below school ', 'Masters', 'Masters', 'Bachelors', 'Short cycle tertiary education', ' Upper secondary', ' Upper secondary', ' Upper secondary', 'Bachelors', ' Upper secondary', ' Upper secondary', 'Below school ', 'Bachelors', ' Upper secondary', 'Short cycle tertiary education', ' Upper secondary', 'Masters', 'Masters', 'Below school ', ' Upper secondary', ' Upper secondary', 'PhD', 'Bachelors', ' Upper secondary', ' Upper secondary', 'Bachelors', 'Bachelors', 'Masters', ' Upper secondary', 'Masters', 'Bachelors', ' Upper secondary', 'PhD', ' Upper secondary', 'Bachelors', 'Below school ', 'Below school ', 'Masters', ' Upper secondary', 'Bachelors', 'Bachelors', 'Bachelors', ' Upper secondary', ' Upper secondary', ' Upper secondary', 'Masters', 'Bachelors', 'Masters', 'Masters', 'Below school ', 'Short cycle tertiary education', 'Below school ', 'Below school ', 'Below school ', 'Masters', 'Bachelors', 'Bachelors', ' Upper secondary', 'Bachelors', 'Bachelors', ' Upper secondary', 'Short cycle tertiary education', ' Upper secondary', 'Below school ', ' Upper secondary', 'Masters', 'Short cycle tertiary education', 'Masters', ' Upper secondary', ' Upper secondary', 'Bachelors', 'Bachelors', 'Below school ', 'Bachelors', 'Below school ', 'Below school ', 'Masters', 'Below school ', ' Upper secondary', 'PhD', ' Upper secondary', 'Below school ', 'Below school ', ' Upper secondary', 'Bachelors', 'Below school ', 'Masters', ' Upper secondary', 'Masters', 'Masters', ' Upper secondary', ' Upper secondary', ' Upper secondary', 'Below school ', 'Bachelors', 'Below school ', 'Below school ', 'Masters', ' Upper secondary', 'Bachelors', ' Upper secondary', ' Upper secondary', 'Below school ', 'Masters', 'Masters', 'Masters', 'Below school ', ' Upper secondary', 'Bachelors', 'Masters', 'Short cycle tertiary education', 'Bachelors', 'Bachelors', ' Upper secondary', 'Short cycle tertiary education', ' Upper secondary', ' Upper secondary', 'Below school ', ' Upper secondary', 'Masters', ' Upper secondary', 'Bachelors', 'Bachelors', 'Masters', ' Upper secondary', ' Upper secondary', ' Upper secondary', ' Upper secondary', 'Bachelors', 'Masters', ' Upper secondary', ' Upper secondary', 'Short cycle tertiary education', 'Short cycle tertiary education', 'Bachelors', ' Upper secondary', 'Below school ', ' Upper secondary', 'Below school ', 'Short cycle tertiary education', 'Below school ', 'Below school ', 'Bachelors', ' Upper secondary', 'Bachelors', ' Upper secondary', 'Masters', 'Below school ', 'Short cycle tertiary education', 'Bachelors', 'Below school ', 'Masters', 'Below school ', 'Bachelors', 'PhD', 'Bachelors', ' Upper secondary', 'Below school ', 'Short cycle tertiary education', 'Masters', ' Upper secondary', 'Masters', 'Below school ', 'Masters', 'Below school ', ' Upper secondary', 'Masters', 'Bachelors', 'Masters', 'Bachelors', 'Bachelors', 'Bachelors', 'Below school ', ' Upper secondary', 'Below school ', 'Bachelors', 'Bachelors', ' Upper secondary', 'Below school ', 'Masters', 'Bachelors', 'Short cycle tertiary education', 'Short cycle tertiary education', 'Masters', ' Upper secondary', ' Upper secondary', ' Upper secondary', ' Upper secondary', 'Below school ', 'Bachelors', ' Upper secondary', 'Short cycle tertiary education', 'Below school ', ' Upper secondary', 'Below school ', 'Below school ', ' Upper secondary', 'Bachelors', ' Upper secondary', ' Upper secondary', 'Bachelors', ' Upper secondary', 'Below school ', 'Short cycle tertiary education', 'Short cycle tertiary education', 'Bachelors', ' Upper secondary', 'Bachelors', 'Bachelors', ' Upper secondary', ' Upper secondary', ' Upper secondary', ' Upper secondary', ' Upper secondary', 'Short cycle tertiary education', 'Masters', 'Masters', ' Upper secondary', 'Bachelors', 'Below school ', 'Below school ', 'Short cycle tertiary education', 'Masters', 'Below school ', 'Bachelors', 'Masters', ' Upper secondary', 'Bachelors', 'Bachelors', ' Upper secondary', 'Bachelors', 'Bachelors', 'Bachelors', 'Masters', 'Masters', 'Masters', 'Short cycle tertiary education', 'Below school ', ' Upper secondary', ' Upper secondary', 'Short cycle tertiary education', 'Bachelors', 'Below school ', 'Bachelors', 'Bachelors', ' Upper secondary', 'Short cycle tertiary education', 'Below school ', 'Bachelors', 'Below school ', 'Masters', 'Bachelors', 'Bachelors', ' Upper secondary', 'Masters', 'Masters', 'Below school ', 'Bachelors', 'Bachelors', 'Bachelors', 'Bachelors', ' Upper secondary', 'Masters', 'Masters', ' Upper secondary', 'Bachelors', ' Upper secondary', 'Below school ', ' Upper secondary', 'Below school ', 'Masters', 'Masters', 'Below school ', 'Bachelors', ' Upper secondary', 'Below school ', ' Upper secondary', ' Upper secondary', 'Bachelors', 'Below school ', ' Upper secondary', ' Upper secondary', 'Below school ', 'Bachelors', 'Bachelors', 'Bachelors', ' Upper secondary', ' Upper secondary', 'Short cycle tertiary education', ' Upper secondary', 'Short cycle tertiary education', ' Upper secondary', 'Bachelors', 'Bachelors', 'Bachelors', 'Masters', 'Short cycle tertiary education', ' Upper secondary', 'Masters', 'Bachelors', 'Short cycle tertiary education', ' Upper secondary', ' Upper secondary', 'Below school ', 'Bachelors', 'Below school ', 'Bachelors', 'Short cycle tertiary education', 'Masters', 'Bachelors', 'Masters', 'Below school ', 'Short cycle tertiary education', 'Short cycle tertiary education', ' Upper secondary']\n"
     ]
    },
    {
     "name": "stdout",
     "output_type": "stream",
     "text": [
      "                                  0\n",
      "0                     Below school \n",
      "1                         Bachelors\n",
      "2                         Bachelors\n",
      "3                   Upper secondary\n",
      "4                   Upper secondary\n",
      "..                              ...\n",
      "495                         Masters\n",
      "496                   Below school \n",
      "497  Short cycle tertiary education\n",
      "498  Short cycle tertiary education\n",
      "499                 Upper secondary\n",
      "\n",
      "[500 rows x 1 columns]\n"
     ]
    }
   ],
   "source": [
    "#import random\n",
    "#sampleList = [100, 200, 300, 400, 500]\n",
    "#randomList = random.choices(\n",
    " # sampleList, weights=(10, 20, 30, 40, 50), k=5)\n",
    "  # print(randomList)\n",
    "# https://www.w3schools.com/python/ref_random_seed.asp\n",
    "# https://www.geeksforgeeks.org/how-to-get-weighted-random-choice-in-python/ \n",
    "# reference: https://stats.oecd.org/Index.aspx?DataSetCode=EAG_NEAC\n",
    "\n",
    "degree_attained = list([18.3, 31.6, 8.8, 26.4,13.3, 1.6])\n",
    "print(degree_attained)\n",
    "\n",
    "sample_list = list([\"Below school \", \" Upper secondary\", \n",
    "                    \"Short cycle tertiary education\", \"Bachelors\", \"Masters\", \"PhD\"])\n",
    "\n",
    "\n",
    "import random\n",
    "random.seed(1)\n",
    "random_list = random.choices(sample_list, weights =degree_attained,\n",
    "              k=500)\n",
    "print(random_list)\n",
    "#making a dataframe out of the data\n",
    "import pandas as pd\n",
    "df = pd.DataFrame(random_list)\n",
    "print(df)"
   ]
  },
  {
   "cell_type": "code",
   "execution_count": 8,
   "id": "fadb5630-4132-44c3-b581-1a091ac76fa3",
   "metadata": {},
   "outputs": [
    {
     "data": {
      "text/plain": [
       "(array([ 92.,   0., 124.,   0., 153.,   0.,  74.,   0.,  52.,   5.]),\n",
       " array([0. , 0.5, 1. , 1.5, 2. , 2.5, 3. , 3.5, 4. , 4.5, 5. ]),\n",
       " <BarContainer object of 10 artists>)"
      ]
     },
     "execution_count": 8,
     "metadata": {},
     "output_type": "execute_result"
    },
    {
     "data": {
      "image/png": "[encoded data removed]",
      "text/plain": [
       "<Figure size 432x288 with 1 Axes>"
      ]
     },
     "metadata": {
      "needs_background": "light"
     },
     "output_type": "display_data"
    }
   ],
   "source": [
    "plt.hist(random_list)"
   ]
  },
  {
   "cell_type": "code",
   "execution_count": 19,
   "id": "2c818dae-d7f1-4409-a16f-1c84d55efd7e",
   "metadata": {},
   "outputs": [],
   "source": []
  }
 ],
 "metadata": {
  "kernelspec": {
   "display_name": "Python 3 (ipykernel)",
   "language": "python",
   "name": "python3"
  },
  "language_info": {
   "codemirror_mode": {
    "name": "ipython",
    "version": 3
   },
   "file_extension": ".py",
   "mimetype": "text/x-python",
   "name": "python",
   "nbconvert_exporter": "python",
   "pygments_lexer": "ipython3",
   "version": "3.9.12"
  }
 },
 "nbformat": 4,
 "nbformat_minor": 5
}

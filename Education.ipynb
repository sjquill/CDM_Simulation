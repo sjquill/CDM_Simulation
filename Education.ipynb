{
 "cells": [
  {
   "cell_type": "code",
   "execution_count": 76,
   "id": "11e46375-2ac3-44ac-bf83-13a201d06733",
   "metadata": {},
   "outputs": [
    {
     "name": "stdout",
     "output_type": "stream",
     "text": [
      "[99.99999999999999]\n"
     ]
    }
   ],
   "source": []
  },
  {
   "cell_type": "code",
   "execution_count": 30,
   "id": "98039d4d-ee37-4e01-8382-fb8b52fab847",
   "metadata": {},
   "outputs": [
    {
     "name": "stdout",
     "output_type": "stream",
     "text": [
      "[17, 83, 66, 47]\n"
     ]
    }
   ],
   "source": [
    "\n"
   ]
  },
  {
   "cell_type": "code",
   "execution_count": 37,
   "id": "2d4c00c1-dafc-4692-a91e-8813ec3685ff",
   "metadata": {},
   "outputs": [
    {
     "name": "stdout",
     "output_type": "stream",
     "text": [
      "[17, 17, 19, 47]\n"
     ]
    }
   ],
   "source": []
  },
  {
   "cell_type": "code",
   "execution_count": 31,
   "id": "d8838c0e-b6e3-4864-b4bb-8405fb4705a5",
   "metadata": {},
   "outputs": [],
   "source": [
    "import matplotlib as mpl\n",
    "import matplotlib.pyplot as plt"
   ]
  },
  {
   "cell_type": "code",
   "execution_count": 32,
   "id": "c3f501f2-4d40-4cbb-b5e0-4ba9d119fd5c",
   "metadata": {},
   "outputs": [],
   "source": [
    "plt.style.use('classic')"
   ]
  },
  {
   "cell_type": "code",
   "execution_count": 33,
   "id": "bf6715e2-8430-4e8b-89ab-9bcc8252a23c",
   "metadata": {},
   "outputs": [],
   "source": [
    "%matplotlib inline"
   ]
  },
  {
   "cell_type": "code",
   "execution_count": 39,
   "id": "a74f1014-8c7c-42af-a284-85842da76bca",
   "metadata": {},
   "outputs": [
    {
     "data": {
      "text/plain": [
       "(array([3., 0., 0., 0., 0., 0., 0., 0., 0., 1.]),\n",
       " array([17., 20., 23., 26., 29., 32., 35., 38., 41., 44., 47.]),\n",
       " <BarContainer object of 10 artists>)"
      ]
     },
     "execution_count": 39,
     "metadata": {},
     "output_type": "execute_result"
    },
    {
     "data": {
      "image/png": "[encoded data removed]",
      "text/plain": [
       "<Figure size 432x288 with 1 Axes>"
      ]
     },
     "metadata": {
      "needs_background": "light"
     },
     "output_type": "display_data"
    }
   ],
   "source": [
    "plt.hist(degree_attained)"
   ]
  },
  {
   "cell_type": "code",
   "execution_count": 5,
   "id": "751044fa-cb42-406b-ba6a-d3dc2cd8f115",
   "metadata": {},
   "outputs": [
    {
     "name": "stdout",
     "output_type": "stream",
     "text": [
      "[18.3, 31.6, 8.8, 26.4, 13.3, 1.6]\n",
      "['Below school ', 'Bachelors', 'Bachelors', ' Upper secondary', ' Upper secondary']\n"
     ]
    }
   ],
   "source": [
    "#import random\n",
    "#sampleList = [100, 200, 300, 400, 500]\n",
    "#randomList = random.choices(\n",
    " # sampleList, weights=(10, 20, 30, 40, 50), k=5)\n",
    "  # print(randomList)\n",
    "# https://www.w3schools.com/python/ref_random_seed.asp\n",
    "# https://www.geeksforgeeks.org/how-to-get-weighted-random-choice-in-python/ \n",
    "# reference: https://stats.oecd.org/Index.aspx?DataSetCode=EAG_NEAC\n",
    "\n",
    "degree_attained = list([18.3, 31.6, 8.8, 26.4,13.3, 1.6])\n",
    "print(degree_attained)\n",
    "\n",
    "sample_list = list([\"Below school \", \" Upper secondary\", \n",
    "                    \"Short cycle tertiary education\", \"Bachelors\", \"Masters\", \"PhD\"])\n",
    "\n",
    "\n",
    "import random\n",
    "random.seed(1)\n",
    "random_list = random.choices(sample_list, weights =degree_attained,\n",
    "              k=5)\n",
    "print(random_list)"
   ]
  },
  {
   "cell_type": "code",
   "execution_count": 73,
   "id": "fadb5630-4132-44c3-b581-1a091ac76fa3",
   "metadata": {},
   "outputs": [
    {
     "data": {
      "text/plain": [
       "(array([ 92.,   0., 124.,   0., 153.,   0.,  74.,   0.,  52.,   5.]),\n",
       " array([0. , 0.5, 1. , 1.5, 2. , 2.5, 3. , 3.5, 4. , 4.5, 5. ]),\n",
       " <BarContainer object of 10 artists>)"
      ]
     },
     "execution_count": 73,
     "metadata": {},
     "output_type": "execute_result"
    },
    {
     "data": {
      "image/png": "[encoded data removed]",
      "text/plain": [
       "<Figure size 432x288 with 1 Axes>"
      ]
     },
     "metadata": {
      "needs_background": "light"
     },
     "output_type": "display_data"
    }
   ],
   "source": [
    "plt.hist(random_list)"
   ]
  },
  {
   "cell_type": "code",
   "execution_count": null,
   "id": "2c818dae-d7f1-4409-a16f-1c84d55efd7e",
   "metadata": {},
   "outputs": [],
   "source": []
  }
 ],
 "metadata": {
  "kernelspec": {
   "display_name": "Python 3 (ipykernel)",
   "language": "python",
   "name": "python3"
  },
  "language_info": {
   "codemirror_mode": {
    "name": "ipython",
    "version": 3
   },
   "file_extension": ".py",
   "mimetype": "text/x-python",
   "name": "python",
   "nbconvert_exporter": "python",
   "pygments_lexer": "ipython3",
   "version": "3.9.12"
  }
 },
 "nbformat": 4,
 "nbformat_minor": 5
}
